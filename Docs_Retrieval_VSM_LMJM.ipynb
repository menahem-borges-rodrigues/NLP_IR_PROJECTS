{
 "cells": [
  {
   "cell_type": "markdown",
   "id": "19c0a93d",
   "metadata": {},
   "source": [
    "- 1. Colocar Queries em dicionário\n",
    "Nas linhas abaixo retirou-se a informação de cada paciente e colocou-se em um dicionario. Sendo as keys o código do paciente e  a value a sua situação clinica (query)"
   ]
  },
  {
   "cell_type": "code",
   "execution_count": 2,
   "id": "4cd4c6ac",
   "metadata": {},
   "outputs": [
    {
     "name": "stdout",
     "output_type": "stream",
     "text": [
      "20141 58-year-old woman with hypertension and obesity presents with exercise-related episodic chest pain radiating to the back.\n",
      "       \t\t\n",
      "20142 8-year-old boy with 2 days of loose stools, fever, and cough after returning from a trip to Colorado. Chest x-ray shows bilateral lung infiltrates.\n",
      "       \t\t\n",
      "20143  58-year-old female non-smoker with left lung mass on x-ray. Head CT shows a solitary right frontal lobe mass.\n",
      "       \t\t\n",
      "20144 2-year-old boy with fever and irritability for 5 days. Physical exam findings include conjunctivitis, strawberry tongue, and desquamation of the fingers and toes. Lab results include low albumin, elevated white blood cell count and C-reactive protein, and urine leukocytes. Echo shows moderate dilation of the coronary arteries.\n",
      "       \t\t\n",
      "20145 56-year-old woman presents with shortness of breath 3 weeks after surgical mastectomy. Physical exam is significant for right calf tenderness and decreased breath sounds at the right base. Her D-dimer level is elevated.\n",
      "       \t\t\n",
      "20146 64-year-old woman with uncontrolled diabetes, now with an oozing, painful skin lesion on her left lower leg.\n",
      "       \t\t\n",
      "20147 26-year-old obese woman with bipolar disorder, on zolpidem and lithium, with recent difficulty sleeping, agitation, suicidal ideation, and irritability.\n",
      "       \t\t\n",
      "20148 62-year-old man with progressive memory loss and involuntary leg movements. Brain MRI reveals cortical atrophy, and cortical biopsy shows vacuolar gray matter changes with reactive astrocytosis.\n",
      "       \t\t\n",
      "20149 43-year-old woman with soft, flesh-colored, pedunculated lesions on her neck.\n",
      "       \t\t\n",
      "201410 67-year-old woman status post cardiac catheterization via right femoral artery, now with a cool, pulseless right foot and right femoral bruit.\n",
      "       \t\t\n",
      "201411 40-year-old woman with severe right arm pain and hypotension. She has no history of trauma and right arm exam reveals no significant findings.\n",
      "       \t\t\n",
      "201412 25-year-old woman with fatigue, hair loss, weight gain, and cold intolerance for 6 months.\n",
      "       \t\t\n",
      "201413 30-year-old woman who is 3 weeks post-partum, presents with shortness of breath, tachypnea, and hypoxia.\n",
      "       \t\t\n",
      "201414 85-year-old man who was in a car accident 3 weeks ago, now with 3 days of progressively decreasing level of consciousness and impaired ability to perform activities of daily living.\n",
      "       \t\t\n",
      "201415 36-year-old woman with amenorrhea, abdominal tenderness, enlarged uterus, and cervical dilation. Urine pregnancy test is negative. Ultrasound reveals an enlarged uterus with multiple cystic areas, which could be consistent with vesicular mole and fibroid degeneration.\n",
      "       \t\t\n",
      "201416 28-year-old female with neck pain and left arm numbness 3 weeks after working with stray animals. Physical exam initially remarkable for slight left arm tremor and spasticity. Three days later she presented with significant arm spasticity, diaphoresis, agitation, difficulty swallowing, and hydrophobia.\n",
      "       \t\t\n",
      "201417 48-year-old man with common variable immunodeficiency presents with abdominal pain and fever. Ultrasound reveals hepatomegaly and free intraperitoneal fluid. A ruptured liver abscess is found and drained during exploratory laparotomy.\n",
      "       \t\t\n",
      "201418 6-month-old male with decreased urine output and edema several hours after surgery. He is hypertensive and tachycardic, has a high BUN and creatinine, and urine microscopy reveals red blood cells and granular casts.\n",
      "       \t\t\n",
      "201419 52-year-old man with history of smoking and heavy drinking, now with progressive dysphagia and 25-pound weight loss.\n",
      "       \t\t\n",
      "201420 32-year-old unbelted driver status post car accident. Has multiple extremity fractures and severe abdominal pain with rebound and guarding.\n",
      "       \t\t\n",
      "201421 21-year-old female with progressive arthralgias, fatigue, and butterfly-shaped facial rash. Labs are significant for positive ANA and anti-double-stranded DNA, as well as proteinuria and RBC casts.\n",
      "       \t\t\n",
      "201422 15-year-old girl with right lower quadrant abdominal pain, decreased appetite, and enlarged appendix on abdominal ultrasound.\n",
      "       \t\t\n",
      "201423 63-year-old heavy smoker with productive cough, shortness of breath, tachypnea, and oxygen requirement. Chest x-ray shows hyperinflation with no consolidation.\n",
      "       \t\t\n",
      "201424  33-year-old male presents with severe abdominal pain one week after a bike accident in which he sustained abdominal trauma. He is hypotensive and tachycardic, and imaging reveals a ruptured spleen and intraperitoneal hemorrhage.\n",
      "       \t\t\n",
      "201425 8-year-old boy with decreased level of consciousness 30 minutes after falling from his bike and hitting his head. He was not wearing a helmet. In the ER he was bradycardic and hypertensive, and the neurosurgeon strongly advised immediate treatment.\n",
      "       \t\t\n",
      "201426 Group traveling to the Amazon rainforest, including 3 pregnant women. All members' immunizations are up-to-date but they require malaria prophylaxis.\n",
      "       \t\t\n",
      "201427 21-year-old male with dozens of small polyps found on colonoscopy. Family history significant for both older siblings having total colectomies after colonoscopy revealed hundreds of adenomas.\n",
      "       \t\t\n",
      "201428 31-year-old female with amenorrhea, milky nipple discharge, negative urine pregnancy test, and elevated prolactin level.\n",
      "       \t\t\n",
      "201429 51-year-old smoker with hypertension and diabetes, in menopause, needs recommendations for preventing osteoporosis.\n",
      "       \t\t\n",
      "201430 72-year-old man with calf pain while walking uphill. History of ischemic heart disease and worsening hypertension despite medication compliance. On physical exam he has a right carotid bruit and his lower extremities are cool, with diminished dorsalis pedis pulses.\n",
      "       \t\t\n",
      "20151 A 44-year-old man with coffee-ground emesis, tachycardia, hypoxia,  hypotension and  cool, clammy extremities.\n",
      "       \t\t\n",
      "20152 A 62-year-old immunosuppressed male with fever, cough and intranuclear inclusion bodies in bronchoalveolar lavage\n",
      "       \t\t\n",
      "20153 A 65-year-old male presents with dyspnea, tachypnea, chest pain on inspiration, and swelling and pain in the right calf. \n",
      "       \t\t\n",
      "20154 82-year-old woman awakened by acute stabbing chest pain, with ST-segment elevation, hypertension, sinus tachycardia, no diseases on coronary angiography and left ventricular dysfunction on ventriculography.\n",
      "       \t\t\n",
      "20155 Young adult woman with 2 weeks of fever and migrating joint inflammation.\n",
      "       \t\t\n",
      "20156 A 46-year-old woman with sweaty hands, exophthalmia, and weight loss despite increased eating.\n",
      "       \t\t\n",
      "20157 A 22 year old female presents with changes in appetite and sleeping, fatigue, diminished ability to think or concentrate, anhedonia and feelings of guilt.\n",
      "       \t\t\n",
      "20158 A 10-year-old boy with difficulty concentrating, daytime sleepiness, and failure to thrive. The boy sleeps restlessly, snores, sweats, breathes heavily through his mouth and gasps in his sleep. \n",
      "       \t\t\n",
      "20159 A 10 year old child with recent history of pork consumption presents with fever, myalgia, facial edema and eosinophilia\n",
      "       \t\t\n",
      "201510 A 38 year old woman with severe dysmenorrhea, menorrhagia, and menometrorrhagia. PMH of infertility treatment and ectopic pregnancy\n",
      "       \t\t\n",
      "201511 A 56-year old Caucasian female presents with sensitivity to cold, fatigue, and constipation. Physical examination reveals hyporeflexia with delayed relaxation of knee and ankle reflexes, and very dry skin.\n",
      "       \t\t\n",
      "201512 A 44-year-old man complains of severe headache and fever. Nuchal rigidity was found on physical examination.\n",
      "       \t\t\n",
      "201513 A 5-year-old boy presents with difficulty in breathing, stridor, drooling, fever, dysphagia and voice change.\n",
      "       \t\t\n",
      "201514 A young woman in her second gestation presenting with anemia resistant to improvement by iron supplementation, elevated LDH, anisocytosis, poikilocytosis, hemosiderinuria and normal clotting screen.\n",
      "       \t\t\n",
      "201515 A 72-year-old woman with history of hypertension, type 2 diabetes, cryptogenic stroke, normal EKG, normal echocardiogram, normal angiograms, and complaints of occasional shortness of breath and palpitations.\n",
      "       \t\t\n",
      "201516 A 4 year old boy presents with wheezing after playing in the backyard unobserved.\n",
      "       \t\t\n",
      "201517 A 32 year old female with screening that was positive for human papilloma virus with normal Pap smears.\n",
      "       \t\t\n",
      "201518 A 65-year-old African-American male with progressive dyspnea on exertion and while lying flat; bilateral pitting lower-extremity edema. The lungs revealed bilateral basilar crackles.\n",
      "       \t\t\n",
      "201519 A 66-year-old female smoker presents with worsening dyspnea, productive chronic cough, moderate respiratory distress and unintentional weight loss.\n",
      "       \t\t\n",
      "201520 An 89-year-old man with progressive change in personality, poor memory, and myoclonic jerks.\n",
      "       \t\t\n",
      "201521 A 32-year-old male presents with diarrhea and foul-smelling stools. Stool smear reveals protozoan parasites.\n",
      "       \t\t\n",
      "201522 A 65-year-old male complains of productive cough with tinges of blood. Chest X-ray reveals a round opaque mass within a cavity in his lung. Culture of the sputum revealed fungal elements.\n",
      "       \t\t\n",
      "201523 An 18-year-old male returned from Asia a week ago. He presents with high fever, severe headache and joint pain. His blood analysis reveals leukopenia, increased hematocrit and thrombocytopenia.\n",
      "       \t\t\n",
      "201524 A 31 year old male presents with productive cough, chest pain, fever and chills. On exam he has audible wheezing with decreased breath sounds and dullness to percussion.\n",
      "       \t\t\n",
      "201525 10-year-old boy with progressive right knee and left leg pain and edema, lethargy and an osteolytic lesion. No history of trauma, fever, tachycardia, or urinary incontinence.\n",
      "       \t\t\n",
      "201526 An obese 28 yo female with non-ruptured ectopic pregnancy and history of adhesions.\n",
      "       \t\t\n",
      "201527 A 15 yo girl with fatigue, pale skin, low hemoglobin and ferritin.\n",
      "       \t\t\n",
      "201528 An 8-year-old boy presents with a swollen right knee, lower extremity pain and fever. The parents report no history of trauma. The parents noticed a tick bite several months earlier.\n",
      "       \t\t\n",
      "201529 A 4-year-old girl with persistent high fever, skin rash, strawberry tongue, swollen red hands, and bilateral nonexudative conjunctivitis.\n",
      "       \t\t\n",
      "201530 A 47 year old male who fell on his outstretched left arm presents with pain, swelling, and inability to bend the arm. The x-ray, shows posterior elbow dislocation.\n",
      "       \t\t\n"
     ]
    }
   ],
   "source": [
    "import xml.etree.ElementTree as ET\n",
    "import matplotlib as plt\n",
    "import pandas as pd\n",
    "import numpy as np\n",
    "import trec\n",
    "import pprint as pp\n",
    "import pickle\n",
    "\n",
    "Qrels = \"qrels-clinical_trials.txt\"\n",
    "Queries = \"topics-2014_2015-summary.topics\"\n",
    "\n",
    "\n",
    "with open(Queries, 'r') as queries_reader:\n",
    "    txt = queries_reader.read()\n",
    "\n",
    "root = ET.fromstring(txt)\n",
    "\n",
    "cases = {}\n",
    "cases_age = {}\n",
    "cases_genre = {}\n",
    "for query in root.iter('TOP'):\n",
    "    q_num = query.find('NUM').text\n",
    "    q_title = query.find('TITLE').text\n",
    "    cases[q_num] = q_title\n",
    "    #cases_age[q_num] = query.find('AGE').text\n",
    "    #cases_genre[q_num] = query.find('GENDER').text\n",
    "\n",
    "eval = trec.TrecEvaluation(cases, Qrels)\n",
    "\n",
    "pickle.dump(cases, open(\"cases.bin\", \"wb\"))\n",
    "#pickle.dump(cases_age, open(\"cases_age.bin\", \"wb\"))\n",
    "#pickle.dump(cases_genre, open(\"cases_genre.bin\", \"wb\"))\n",
    "\n",
    "for paciente, query in cases.items():\n",
    "    print(paciente, query)"
   ]
  },
  {
   "cell_type": "markdown",
   "id": "74a94d59",
   "metadata": {},
   "source": [
    "- 2. Retirar Informação dos documentos clinicos "
   ]
  },
  {
   "cell_type": "code",
   "execution_count": 3,
   "id": "18df5689-15fd-405c-9e5f-24109e1422fb",
   "metadata": {
    "tags": []
   },
   "outputs": [],
   "source": [
    "#\n",
    "import xml.etree.ElementTree as ET\n",
    "import tarfile\n",
    "\n",
    "tar = tarfile.open(\"clinicaltrials.gov-16_dec_2015.tgz\", \"r:gz\")\n",
    "ids = []\n",
    "brief_titles = []\n",
    "detailed_descriptions = []\n",
    "brief_summaries = []\n",
    "criterias = []\n",
    "genders = []\n",
    "minimum_ages = []\n",
    "maximum_ages = []\n",
    "\n",
    "namelist = tar.getnames()\n",
    "\n",
    "for tarinfo in tar:\n",
    "    if tarinfo.size > 500:\n",
    "        txt = tar.extractfile(tarinfo).read().decode(\"utf-8\", \"strict\")\n",
    "        root = ET.fromstring(txt)\n",
    "        judged = False\n",
    "        id=''\n",
    "        bt=''\n",
    "        dt=''\n",
    "        bs=''\n",
    "        cs=''\n",
    "        ge=''\n",
    "        ma=''\n",
    "        mi=''\n",
    "\n",
    "        for doc_id in root.iter('nct_id'):\n",
    "            if doc_id.text in eval.judged_docs:\n",
    "                judged = True\n",
    "                id=doc_id.text.strip()\n",
    "                break\n",
    "                \n",
    "        if judged is False:\n",
    "            continue\n",
    "\n",
    "        brief_title = root.find('brief_title').text.strip()\n",
    "        bt=brief_title\n",
    "\n",
    "        for dd in root.iter('detailed_description'):\n",
    "            for child in dd:\n",
    "                dd=child.text.strip()\n",
    "        if dd == '':\n",
    "            dd=brief_title\n",
    "              \n",
    "        for bs in root.iter('brief_summary'):\n",
    "            for child in bs:\n",
    "                bs=child.text.strip()\n",
    "        if bs == '':\n",
    "            bs=brief_title\n",
    "                \n",
    "        for c in root.iter('criteria'):\n",
    "            for child in c:\n",
    "                cs=child.text.strip()\n",
    "        if cs=='':\n",
    "            cs= brief_title\n",
    "\n",
    "        for gender in root.iter('gender'):\n",
    "            ge=gender.text.strip()\n",
    "        if ge=='' or ge=='N/A':\n",
    "            ge='Both'\n",
    "\n",
    "        for minimum_age in root.iter('minimum_age'):\n",
    "            mi=minimum_age.text.strip()\n",
    "        if mi=='' or mi=='N/A':\n",
    "            mi='0 years'\n",
    "\n",
    "        for maximum_age in root.iter('maximum_age'):\n",
    "            ma=maximum_age.text.strip()\n",
    "        if ma=='' or ma=='N/A':\n",
    "            ma='100 years'\n",
    "\n",
    "       \n",
    "        if id!='' and bt!='' and dd!='' and bs!='' and cs!='' and ge!='' and mi!='' and ma!='':\n",
    "            ids.append(id)\n",
    "            brief_titles.append(bt)\n",
    "            detailed_descriptions.append(dd)\n",
    "            brief_summaries.append(bs)\n",
    "            criterias.append(cs)\n",
    "            genders.append(ge)\n",
    "            minimum_ages.append(mi)\n",
    "            maximum_ages.append(ma)\n",
    "        else:\n",
    "            print('failed')\n",
    "            print(id,bt,dd,bs,cs)\n",
    "            continue\n",
    "\n",
    "        if len(ids) != len(brief_titles) or len(detailed_descriptions) != len(brief_summaries) or len(brief_summaries) != len(criterias):\n",
    "            print(\"error\")\n",
    "            print(brief_title)\n",
    "            print(detailed_descriptions[0].text.strip())\n",
    "            print(brief_summaries[0].text.strip())\n",
    "            print(criterias[0].text.strip())\n",
    "            break\n",
    "tar.close()\n",
    "\n",
    "pickle.dump(ids, open(\"ids.bin\", \"wb\"))\n",
    "pickle.dump(brief_titles, open(\"brief_title.bin\", \"wb\"))\n",
    "pickle.dump(detailed_descriptions, open(\"detailed_description.bin\", \"wb\"))\n",
    "pickle.dump(brief_summaries, open(\"brief_summary.bin\", \"wb\"))\n",
    "pickle.dump(criterias, open(\"criteria.bin\", \"wb\"))\n",
    "pickle.dump(genders, open(\"gender.bin\", \"wb\"))\n",
    "pickle.dump(minimum_ages, open(\"minimum_age.bin\", \"wb\"))\n",
    "pickle.dump(maximum_ages, open(\"maximum_age.bin\", \"wb\"))\n"
   ]
  },
  {
   "cell_type": "markdown",
   "id": "08f39f5f",
   "metadata": {},
   "source": [
    "- 3. Modelos para avaliar distancia entre queries e documentos"
   ]
  },
  {
   "cell_type": "code",
   "execution_count": 4,
   "id": "c85ebb28",
   "metadata": {},
   "outputs": [],
   "source": [
    "import abc\n",
    "from sklearn.metrics.pairwise import pairwise_distances\n",
    "from sklearn.feature_extraction.text import TfidfVectorizer\n",
    "from sklearn.feature_extraction.text import CountVectorizer\n",
    "from sklearn.metrics.pairwise import pairwise_distances\n",
    "from collections import Counter\n",
    "from nltk.stem.porter import PorterStemmer\n",
    "import re\n",
    "\n",
    "def stemming_tokenizer(str_input):\n",
    "    words = re.sub(r\"[^A-Za-z0-9\\-]\", \" \", str_input).lower().split()\n",
    "    words = [PorterStemmer.stem(word) for word in words]\n",
    "    return words\n",
    "\n",
    "\n",
    "class RetrievalModel: \n",
    "    @abc.abstractmethod  \n",
    "    def search(self):  \n",
    "        pass  \n",
    "\n",
    "class VSM(RetrievalModel):  # subclasse do nosso retrievalmodel - modelo VSM\n",
    "    def __init__(self,tipo,stopw='english'):\n",
    "        self.tipo=tipo\n",
    "        self.stopw=stopw\n",
    "    def search(self, caseid, docs):  # método search que calcula a distancia entre o querie e os diferentes documentos\n",
    "        '''este método recebe 2 argumentos (paciente id e docs) de seguida vectoriza os documentos e depois mede a \n",
    "        distancia entre o query e os documentos. retorna os scores para cada documento'''\n",
    "        n=1\n",
    "        if self.tipo==\"unigram\":\n",
    "            pass\n",
    "        elif self.tipo==\"bigram\":\n",
    "            n=2\n",
    "        else:\n",
    "            raise ValueError('unigram or bigram')\n",
    "        index = TfidfVectorizer(ngram_range=(\n",
    "            1, n), stop_words=self.stopw)\n",
    "        index.fit(docs)\n",
    "        X = index.transform(docs)\n",
    "        query = cases[caseid]\n",
    "        query_tfidf = index.transform([query])\n",
    "        doc_scores = 1-pairwise_distances(X, query_tfidf, metric='cosine')\n",
    "        scores = doc_scores.tolist()\n",
    "        return scores\n",
    "    \n",
    "class LMJM(RetrievalModel): # subclasse do nosso retrievalmodel. modelo LM Jellineck Mercier Smoothing\n",
    "    def __init__(self,tipo,stopw='english'):\n",
    "        self.tipo=tipo\n",
    "        self.stopw=stopw\n",
    "    def search(self, caseid, docs,lmbd_insert):\n",
    "        '''Este métod tem como argumentos o case id e os documentos. vectoriza os documentos e de seguida calcula\n",
    "        as diferentes probabilidades para os queries'''\n",
    "        n=1\n",
    "        if self.tipo==\"unigram\":\n",
    "            pass\n",
    "        elif self.tipo==\"bigram\":\n",
    "            n=2\n",
    "        else:\n",
    "            raise ValueError('unigram or bigram')\n",
    "        index = CountVectorizer(ngram_range=(1, n), analyzer='word',stop_words=self.stopw)\n",
    "        corpus_cv = index.fit(docs).transform(docs)\n",
    "        lmbd = lmbd_insert\n",
    "        prob_word_docs = corpus_cv/np.sum(corpus_cv, axis=1)\n",
    "        prob_word_corpus = np.sum(corpus_cv, axis=0)/np.sum(corpus_cv)\n",
    "        log_mixture = np.log(lmbd*prob_word_docs + (1-lmbd)*prob_word_corpus)\n",
    "        query = cases[caseid]\n",
    "        query_cv = index.transform([query])\n",
    "        total = log_mixture*query_cv.T\n",
    "        return total.flatten().tolist()"
   ]
  },
  {
   "cell_type": "code",
   "execution_count": 5,
   "id": "5d66d098",
   "metadata": {},
   "outputs": [],
   "source": [
    "# split into train and test\n",
    "idx_cases=list(cases.keys())\n",
    "\n",
    "from sklearn.model_selection import train_test_split\n",
    "\n",
    "cases_train ,cases_test = train_test_split(idx_cases,test_size=0.2)  "
   ]
  },
  {
   "cell_type": "code",
   "execution_count": 6,
   "id": "6cdcc327-def6-49d4-959b-5b34b7e15414",
   "metadata": {},
   "outputs": [],
   "source": [
    "def flatten_arr(l):\n",
    "    return [item for sublist in l for item in sublist]\n",
    "\n",
    "def implement_vsm(tipo,stopw):\n",
    "    avg_precision_11point_tvsm,recall_11point_tvsm,total_relv_ret_tvsm = [],[],[]\n",
    "    metrics_all_vsm=[]\n",
    "    p10_tvsm, recall_tvsm, ap_tvsm, ndcg_tvsm, mrr_tvsm=0,0,0,0,0\n",
    "    for caseid in cases_train:\n",
    "        # implementar VSM unigram\n",
    "        scores= flatten_arr(VSM(tipo,stopw).search(caseid,brief_summaries))\n",
    "        results_vsm = pd.DataFrame(list(zip(ids, scores)), columns = ['_id', 'score'])\n",
    "        results_ord_vsm = results_vsm.sort_values(by=['score'], ascending = False)\n",
    "    \n",
    "        p10vsm, recallvsm, apvsm, ndcg5vsm, mrrvsm = eval.eval(results_ord_vsm, caseid)\n",
    "        precision_11pointvsm, recall_11pointvsm, total_relv_retvsm = eval.evalPR(results_ord_vsm, caseid)\n",
    "        p10_tvsm+=p10vsm\n",
    "        recall_tvsm+=recallvsm\n",
    "        ap_tvsm+= apvsm\n",
    "        ndcg_tvsm+=ndcg5vsm\n",
    "        mrr_tvsm+=mrrvsm\n",
    "        avg_precision_11point_tvsm.append(precision_11pointvsm)\n",
    "        recall_11point_tvsm.append(recall_11pointvsm)\n",
    "        total_relv_ret_tvsm.append(total_relv_retvsm)\n",
    "        #if (np.shape(recall_11pointvsm) != (0,)):\n",
    "            #avg_precision_11point_tvsm = avg_precision_11pointvsm + precision_11pointvsm\n",
    "    metrics_all_vsm.append([p10_tvsm/len(cases_train), recall_tvsm/len(cases_train), ap_tvsm/len(cases_train), ndcg_tvsm/len(cases_train), mrr_tvsm/len(cases_train)])\n",
    "    return metrics_all_vsm"
   ]
  },
  {
   "cell_type": "code",
   "execution_count": 7,
   "id": "7a24d826",
   "metadata": {},
   "outputs": [
    {
     "name": "stdout",
     "output_type": "stream",
     "text": [
      "[[0.09999999999999999, 0.9791666666666666, 0.08012636527165994, 0.11831125978138753, 0.0048090182018753445]]\n"
     ]
    }
   ],
   "source": [
    "metrics_all_vsm1=implement_vsm(\"unigram\",\"english\")\n",
    "print(metrics_all_vsm1)  #unigrama c/stop words"
   ]
  },
  {
   "cell_type": "code",
   "execution_count": 8,
   "id": "1828b82f",
   "metadata": {},
   "outputs": [
    {
     "name": "stdout",
     "output_type": "stream",
     "text": [
      "[[0.11041666666666668, 0.9791666666666666, 0.07862158589030463, 0.10540574062878272, 0.0048090182018753445]]\n"
     ]
    }
   ],
   "source": [
    "metrics_all_vsm2=implement_vsm(\"bigram\",\"english\")\n",
    "print(metrics_all_vsm2)  #bigrama c/stop words"
   ]
  },
  {
   "cell_type": "code",
   "execution_count": 9,
   "id": "b1a8ab3c",
   "metadata": {},
   "outputs": [
    {
     "name": "stdout",
     "output_type": "stream",
     "text": [
      "[[0.09791666666666667, 0.9791666666666666, 0.07621057045934872, 0.10490356563943583, 0.0048090182018753445]]\n"
     ]
    }
   ],
   "source": [
    "metrics_all_vsm3=implement_vsm(\"unigram\",None)\n",
    "print(metrics_all_vsm3)  #unigrama s/stop words"
   ]
  },
  {
   "cell_type": "code",
   "execution_count": 10,
   "id": "fe126142",
   "metadata": {},
   "outputs": [
    {
     "name": "stdout",
     "output_type": "stream",
     "text": [
      "[[0.09166666666666669, 0.9791666666666666, 0.07478405887836546, 0.10882538194419895, 0.0048090182018753445]]\n"
     ]
    }
   ],
   "source": [
    "metrics_all_vsm4=implement_vsm(\"bigram\",None)\n",
    "print(metrics_all_vsm4)  #unigrama s/stop words"
   ]
  },
  {
   "cell_type": "code",
   "execution_count": 31,
   "id": "71c64836",
   "metadata": {},
   "outputs": [],
   "source": [
    "# tune lambda from 0.1 to 1\n",
    "def implement(tipo,stopwords):\n",
    "    avg_precision_11point_t,recall_11point_t,total_relv_ret_t = [],[],[]\n",
    "    metrics_all=[]\n",
    "    for lmbd in np.arange(0.1,1,0.1):\n",
    "        p10_t, recall_t, ap_t, ndcg_t, mrr_t=0,0,0,0,0\n",
    "        for caseid in cases_train:\n",
    "            # implementar LMJM unigram\n",
    "            scores_LMJM= LMJM(tipo,stopwords).search(caseid,brief_summaries,lmbd)\n",
    "            results_LMJM = pd.DataFrame(list(zip(ids, scores_LMJM[0])), columns = ['_id', 'score_lmj'])\n",
    "            results_ord_LMJM = results_LMJM.sort_values(by=['score_lmj'], ascending = False)\n",
    "            #all_scores_LMJM.append(sorted(list(zip(ids,scores_LMJM[0])),key=lambda x:x[1],reverse=True))\n",
    "            p10, recall, ap, ndcg5, mrr = eval.eval(results_ord_LMJM, caseid)\n",
    "            precision_11point, recall_11point, total_relv_ret = eval.evalPR(results_ord_LMJM, caseid)\n",
    "            p10_t+=p10\n",
    "            recall_t+=recall\n",
    "            ap_t+= ap\n",
    "            ndcg_t+=ndcg5\n",
    "            mrr_t+=mrr\n",
    "            avg_precision_11point_t.append(precision_11point)\n",
    "            recall_11point_t.append(recall_11point)\n",
    "            total_relv_ret_t.append(total_relv_ret)\n",
    "            #if (np.shape(recall_11point) != (0,)):\n",
    "                #avg_precision_11point_t = avg_precision_11point + precision_11point\n",
    "        metrics_all.append([p10_t/len(cases_train), recall_t/len(cases_train), ap_t/len(cases_train), ndcg_t/len(cases_train), mrr_t/len(cases_train)])\n",
    "    return metrics_all"
   ]
  },
  {
   "cell_type": "code",
   "execution_count": 32,
   "id": "f834883f",
   "metadata": {},
   "outputs": [
    {
     "name": "stdout",
     "output_type": "stream",
     "text": [
      "[[0.11041666666666665, 0.9791666666666666, 0.07217623250350609, 0.08748474317698363, 0.0048090182018753445], [0.11458333333333333, 0.9791666666666666, 0.07439020130785313, 0.09318527775595824, 0.0048090182018753445], [0.1145833333333333, 0.9791666666666666, 0.07505250602425932, 0.0977459069778569, 0.0048090182018753445], [0.11874999999999997, 0.9791666666666666, 0.07553538295027551, 0.09344905304280038, 0.0048090182018753445], [0.11666666666666663, 0.9791666666666666, 0.07369286917804478, 0.09221984266237755, 0.0048090182018753445], [0.1145833333333333, 0.9791666666666666, 0.07365471432663946, 0.09391460156330829, 0.0048090182018753445], [0.1145833333333333, 0.9791666666666666, 0.07188857705390668, 0.09229763338096371, 0.0048090182018753445], [0.10833333333333332, 0.9791666666666666, 0.07140181819270762, 0.09270147126942008, 0.0048090182018753445], [0.09999999999999999, 0.9791666666666666, 0.07253542832121508, 0.09144710255218842, 0.0048090182018753445]]\n"
     ]
    }
   ],
   "source": [
    "metrics_lmjm=implement(\"unigram\",\"english\")\n",
    "print(metrics_lmjm) #LMJM unigram c/stopwords\n"
   ]
  },
  {
   "cell_type": "code",
   "execution_count": 34,
   "id": "9c3fef0f",
   "metadata": {},
   "outputs": [
    {
     "name": "stdout",
     "output_type": "stream",
     "text": [
      "[[0.09791666666666667, 0.9791666666666666, 0.07210252088743462, 0.09106713838398332, 0.0048090182018753445], [0.11041666666666665, 0.9791666666666666, 0.07425510245341439, 0.09469919465999536, 0.0048090182018753445], [0.10833333333333332, 0.9791666666666666, 0.0761460469746568, 0.09578362245831851, 0.0048090182018753445], [0.11041666666666665, 0.9791666666666666, 0.07448183844242325, 0.09294313495211681, 0.0048090182018753445], [0.10833333333333332, 0.9791666666666666, 0.0722312328782538, 0.09242460417258154, 0.0048090182018753445], [0.10416666666666667, 0.9791666666666666, 0.07236357408379691, 0.0928833268915173, 0.0048090182018753445], [0.09999999999999999, 0.9791666666666666, 0.0698108350036196, 0.08800457259359845, 0.0048090182018753445], [0.09791666666666665, 0.9791666666666666, 0.06679350718029066, 0.08349457625870116, 0.0048090182018753445], [0.07916666666666669, 0.9791666666666666, 0.06328836609127632, 0.08044655839658087, 0.0048090182018753445]]\n"
     ]
    }
   ],
   "source": [
    "metrics_lmjm1=implement(\"unigram\",None)\n",
    "print(metrics_lmjm1)  #LMJM unigram s/stopwords"
   ]
  },
  {
   "cell_type": "code",
   "execution_count": 35,
   "id": "40bc736a",
   "metadata": {},
   "outputs": [
    {
     "name": "stdout",
     "output_type": "stream",
     "text": [
      "[[0.10416666666666664, 0.9791666666666666, 0.07423389490071736, 0.10815571393605233, 0.0048090182018753445], [0.10625, 0.9791666666666666, 0.07292592627899001, 0.09978526719662789, 0.0048090182018753445], [0.10416666666666664, 0.9791666666666666, 0.07290819913591556, 0.09956834935980724, 0.0048090182018753445], [0.10416666666666664, 0.9791666666666666, 0.07359288463468573, 0.10581189343581349, 0.0048090182018753445], [0.10416666666666664, 0.9791666666666666, 0.07292645488105161, 0.10436733493798023, 0.0048090182018753445], [0.10416666666666667, 0.9791666666666666, 0.07243986998026307, 0.10026395060252301, 0.0048090182018753445], [0.10416666666666667, 0.9791666666666666, 0.07190704308477204, 0.09634167354314162, 0.0048090182018753445], [0.09999999999999999, 0.9791666666666666, 0.07155188372612707, 0.09321626144563101, 0.0048090182018753445], [0.0979166666666667, 0.9791666666666666, 0.07311091047716496, 0.09531864825214965, 0.0048090182018753445]]\n"
     ]
    }
   ],
   "source": [
    "metrics_lmjm2=implement(\"bigram\",\"english\")\n",
    "print(metrics_lmjm2) #LMJM bigram c/stopwords"
   ]
  },
  {
   "cell_type": "code",
   "execution_count": 37,
   "id": "706a2a4a",
   "metadata": {},
   "outputs": [
    {
     "name": "stdout",
     "output_type": "stream",
     "text": [
      "[[0.09999999999999998, 0.9791666666666666, 0.06711575252506184, 0.09820534524289821, 0.0048090182018753445], [0.10416666666666663, 0.9791666666666666, 0.0708362000516766, 0.10817374461511599, 0.0048090182018753445], [0.10208333333333329, 0.9791666666666666, 0.0705409437111739, 0.11122016222445441, 0.0048090182018753445], [0.1020833333333333, 0.9791666666666666, 0.07088141735255347, 0.11215641534977182, 0.0048090182018753445], [0.1020833333333333, 0.9791666666666666, 0.07020459911215235, 0.10825496413130054, 0.0048090182018753445], [0.10208333333333332, 0.9791666666666666, 0.07002920174264686, 0.10588460343034874, 0.0048090182018753445], [0.09999999999999998, 0.9791666666666666, 0.0694124292756461, 0.10674824324673893, 0.0048090182018753445], [0.09583333333333331, 0.9791666666666666, 0.06925412032349494, 0.10713758768997274, 0.0048090182018753445], [0.09166666666666666, 0.9791666666666666, 0.06680517126207501, 0.09989026840235615, 0.0048090182018753445]]\n"
     ]
    }
   ],
   "source": [
    "metrics_lmjm3=implement(\"bigram\",None)\n",
    "print(metrics_lmjm3) #LMJM bigram s/stopwords"
   ]
  },
  {
   "cell_type": "code",
   "execution_count": 48,
   "id": "d4702396-3b65-4014-a784-5e7335aae436",
   "metadata": {},
   "outputs": [
    {
     "data": {
      "image/png": "[encoded data removed]",
      "text/plain": [
       "<Figure size 640x480 with 4 Axes>"
      ]
     },
     "metadata": {},
     "output_type": "display_data"
    }
   ],
   "source": [
    "import matplotlib.pyplot as plt\n",
    "#plt.plot(recall_11point,avg_precision_11point/len(cases))\n",
    "\n",
    "metrics_all_lmjm=[metrics_lmjm,metrics_lmjm1,metrics_lmjm2,metrics_lmjm3]\n",
    "metrics_all_lmjm=np.array(metrics_all_lmjm)\n",
    "def show_plots(metrics):\n",
    "    fig = plt.figure()\n",
    "    titles=(\"LMJM unigram w/stopwords\",\"LMJM unigram wo/stopwords\",\"LMJM bigram w/stopwords\",\"LMJM bigram wo/stopwords\")\n",
    "    for i in range(len(metrics)):\n",
    "        plt.subplot(2, 2, i+1)\n",
    "        plt.title(titles[i])\n",
    "        plt.xlabel(\"lambda\")\n",
    "        plt.ylabel(\"metric value\")\n",
    "        plt.plot(np.arange(0.1,1,0.1),metrics[i,:][:,0],label=\"p10\")\n",
    "        plt.plot(np.arange(0.1,1,0.1),metrics[i,:][:,2],label=\"ap\")\n",
    "        plt.plot(np.arange(0.1,1,0.1),metrics[i,:][:,3],label=\"ndcg\")\n",
    "        plt.tight_layout()\n",
    "    plt.legend(bbox_to_anchor=(1.04, 0.5), loc=\"center left\")\n",
    "    plt.show()\n",
    "\n",
    "show_plots(metrics_all_lmjm)"
   ]
  },
  {
   "cell_type": "code",
   "execution_count": 61,
   "id": "c2d90385",
   "metadata": {},
   "outputs": [
    {
     "name": "stdout",
     "output_type": "stream",
     "text": [
      "[[0.11666666666666668, 1.0, 0.0555234492418346, 0.10467427779940569, 0.006182202610774039]]\n"
     ]
    }
   ],
   "source": [
    "# evaluate model with best lambda on testset\n",
    "#considering the results of models above. we've chosen LMJM Unigram considering stopwords and set a lambda=0.4  \n",
    "metrics_test=[]\n",
    "precision_11point_t, recall_11point_t, total_relv_ret_t=[],[],[]\n",
    "p10_t, recall_t, ap_t, ndcg_t, mrr_t=0,0,0,0,0\n",
    "for caseid in cases_test:\n",
    "    # implementar LMJM unigram\n",
    "    scores_LMJM= LMJM(\"unigram\",\"english\").search(caseid,brief_summaries,0.4)\n",
    "    results_LMJM = pd.DataFrame(list(zip(ids, scores_LMJM[0])), columns = ['_id', 'score_lmj'])\n",
    "    results_ord_LMJM = results_LMJM.sort_values(by=['score_lmj'], ascending = False)\n",
    "    #all_scores_LMJM.append(sorted(list(zip(ids,scores_LMJM[0])),key=lambda x:x[1],reverse=True))\n",
    "    p10, recall, ap, ndcg5, mrr = eval.eval(results_ord_LMJM, caseid)\n",
    "    precision_11point, recall_11point, total_relv_ret = eval.evalPR(results_ord_LMJM, caseid)\n",
    "    p10_t+=p10\n",
    "    recall_t+=recall\n",
    "    ap_t+= ap\n",
    "    ndcg_t+=ndcg5\n",
    "    mrr_t+=mrr\n",
    "    precision_11point_t.append(precision_11point)\n",
    "    if (np.shape(recall_11point) != (0,)):\n",
    "        recall_11point_t.append(recall_11point)\n",
    "metrics_test.append([p10_t/len(cases_test), recall_t/len(cases_test), ap_t/len(cases_test), ndcg_t/len(cases_test), mrr_t/len(cases_test)])\n",
    "print(metrics_test)"
   ]
  },
  {
   "cell_type": "code",
   "execution_count": 57,
   "id": "f632fc70",
   "metadata": {},
   "outputs": [
    {
     "name": "stdout",
     "output_type": "stream",
     "text": [
      "[[0.09166666666666667, 1.0, 0.05012100253450214, 0.06435408289768361, 0.006182202610774039]]\n"
     ]
    }
   ],
   "source": [
    "# evaluate on testset the VSM model that perfomed better on training set (VSM Bigram w/stopwords)\n",
    "metrics_test=[]\n",
    "p10_t, recall_t, ap_t, ndcg_t, mrr_t=0,0,0,0,0\n",
    "precision_11point_tv, recall_11point_tv, total_relv_ret_t=[],[],[]\n",
    "for caseid in cases_test:\n",
    "    # implementar\n",
    "    scores= flatten_arr(VSM(\"bigram\",\"english\").search(caseid,brief_summaries))\n",
    "    results_vsm = pd.DataFrame(list(zip(ids, scores)), columns = ['_id', 'score'])\n",
    "    results_ord_vsm = results_vsm.sort_values(by=['score'], ascending = False)\n",
    "    p10vsm, recallvsm, apvsm, ndcg5vsm, mrrvsm = eval.eval(results_ord_vsm, caseid)\n",
    "    precision_11pointvsm, recall_11pointvsm, total_relv_retvsm = eval.evalPR(results_ord_vsm, caseid)   \n",
    "    p10_t+=p10vsm\n",
    "    recall_t+=recallvsm\n",
    "    ap_t+= apvsm\n",
    "    ndcg_t+=ndcg5vsm\n",
    "    mrr_t+=mrrvsm\n",
    "    precision_11point_tv.append(precision_11pointvsm)\n",
    "    if (np.shape(recall_11point) != (0,)):\n",
    "        recall_11point_tv.append(recall_11pointvsm)\n",
    "metrics_test.append([p10_t/len(cases_test), recall_t/len(cases_test), ap_t/len(cases_test), ndcg_t/len(cases_test), mrr_t/len(cases_test)])\n",
    "print(metrics_test)"
   ]
  },
  {
   "cell_type": "code",
   "execution_count": 62,
   "id": "03aec83d-89e5-419e-9108-21c0162acfdb",
   "metadata": {},
   "outputs": [
    {
     "data": {
      "image/png": "[encoded data removed]",
      "text/plain": [
       "<Figure size 640x480 with 1 Axes>"
      ]
     },
     "metadata": {},
     "output_type": "display_data"
    }
   ],
   "source": [
    "# curve vsm & lmjm\n",
    "precision_11=np.array(precision_11point_t).mean(axis=0)\n",
    "recall_11=np.array(recall_11point_t).mean(axis=0)\n",
    "precision_11v=np.array(precision_11point_tv).mean(axis=0)\n",
    "recall_11v=np.array(recall_11point_tv).mean(axis=0)\n",
    "\n",
    "plt.figure()\n",
    "plt.xlabel(\"recall\")\n",
    "plt.ylabel(\"precision\")\n",
    "plt.plot(recall_11,precision_11/len(cases_test),label=\"lmjm\")\n",
    "plt.plot(recall_11v,precision_11v/len(cases_test),label=\"vsm\")\n",
    "plt.legend(bbox_to_anchor=(1.04, 0.5), loc=\"center left\")\n",
    "plt.show()"
   ]
  },
  {
   "cell_type": "code",
   "execution_count": null,
   "id": "7639c843-404a-403a-a128-f9feaececdca",
   "metadata": {},
   "outputs": [],
   "source": []
  }
 ],
 "metadata": {
  "kernelspec": {
   "display_name": "Python 3 (ipykernel)",
   "language": "python",
   "name": "python3"
  },
  "language_info": {
   "codemirror_mode": {
    "name": "ipython",
    "version": 3
   },
   "file_extension": ".py",
   "mimetype": "text/x-python",
   "name": "python",
   "nbconvert_exporter": "python",
   "pygments_lexer": "ipython3",
   "version": "3.10.6"
  }
 },
 "nbformat": 4,
 "nbformat_minor": 5
}
